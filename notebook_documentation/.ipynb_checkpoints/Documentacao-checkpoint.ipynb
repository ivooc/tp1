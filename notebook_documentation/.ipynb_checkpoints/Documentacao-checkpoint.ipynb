{
 "cells": [
  {
   "cell_type": "markdown",
   "metadata": {},
   "source": [
    "*Test*"
   ]
  },
  {
   "cell_type": "code",
   "execution_count": null,
   "metadata": {},
   "outputs": [],
   "source": [
    "\n",
    "\n",
    "#ifndef _TPPOO_MATRIZ__\n",
    "#define _TPPOO_MATRIZ__\n",
    "\n",
    "#include <iostream>\n",
    "#include <iomanip>\n",
    "\n",
    "using namespace std;\n",
    "\n",
    "class Matrix{\n",
    "  int rows;  // numero de linhas\n",
    "  int cols;  // numero de colunas\n",
    "  double* pos;  // vetor unidimensional com valores da matriz\n",
    "};\n",
    "\n",
    "#endif\n"
   ]
  }
 ],
 "metadata": {
  "kernelspec": {
   "display_name": "Python 3",
   "language": "python",
   "name": "python3"
  },
  "language_info": {
   "codemirror_mode": {
    "name": "ipython",
    "version": 3
   },
   "file_extension": ".py",
   "mimetype": "text/x-python",
   "name": "python",
   "nbconvert_exporter": "python",
   "pygments_lexer": "ipython3",
   "version": "3.6.5"
  }
 },
 "nbformat": 4,
 "nbformat_minor": 2
}

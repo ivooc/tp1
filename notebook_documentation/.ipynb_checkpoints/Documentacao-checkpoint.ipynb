{
 "cells": [
  {
   "cell_type": "markdown",
   "metadata": {},
   "source": [
    "# Programação Orientada à Objetos:\n",
    "\n",
    "## Trabalho Prático 1: Classe Matriz\n",
    "Autores: Ivo Capanema, Gabriel Becker"
   ]
  },
  {
   "cell_type": "markdown",
   "metadata": {},
   "source": [
    "## Introdução:\n",
    "A intenção do tabalho era desenvolver uma classe para realizar cálculo matricial intuitivamente, usando sobrecarga para o uso de operador, a fim de introduzir os conceitos de programação orientada a objetos.  \n",
    "O código implementado está acessível no nosso repositório no [github](https://github.com/gabrielbckr/tp1).\n",
    "Nesse documento apenas serão apresentados metodos da interface.\n",
    "\n",
    "## Como compilar e executar:\n",
    "A compilação no GNU/Linux (testado no Debian 9) foi feita usando Makefile e/ou pelo seguinte comando no diretório raiz\n",
    "* g++ Matrix.cpp main.cpp -o exec\n",
    "* ./exec\n",
    "\n",
    "No windows ... /**** IVO\n",
    "\n",
    "Cada membro da dupla usou seu editor favorito (VSCode, Atom, CodeBlocks, Visual Studio). A documentação foi feita usando o Jupyter com o interpreatdor xesus-cling, apesar de nenhum teste ter sido feito nesse ambiente.\n",
    "\n",
    "## Implementação do Código:\n",
    "\n",
    "### Matrix.hpp\n",
    "A Classe desenvolvida contém apenas 3 atributos como na estrutura apresentada abaixo."
   ]
  },
  {
   "cell_type": "code",
   "execution_count": null,
   "metadata": {},
   "outputs": [],
   "source": [
    "#include <iomanip>\n",
    "#include <iostream>\n",
    "\n",
    "using namespace std;\n",
    "\n",
    "class Matrix{\n",
    "  int rows;  // numero de linhas\n",
    "  int cols;  // numero de colunas\n",
    "  double* pos;  // vetor unidimensional com valores da matriz\n",
    "};"
   ]
  },
  {
   "cell_type": "markdown",
   "metadata": {},
   "source": [
    "A matriz gerada tem posições com tipo double. \n",
    "Optamos por cirar um vetor unidimensional pois consideramos a eficiencia perdida com alocação de multiplos vetores (como sugerido nesse [tópico](https://stackoverflow.com/a/28841507/9817745) do stackoverflow), ja que isso não terá dificultações para o usuário dada a interface que ele tem acesso. Essa decisão implicou na função index(int, int) capaz de retornar a posição desejada do vetor unidimensional a partir da posição orientada por linhas e colunas.\n",
    "\n",
    "A inclusção de bibliotecas\n",
    "* iostream\n",
    "* iomanip\n",
    "\n",
    "foi feita para o uso das sobercargas operator<< e operator>>. iomap foi necessaria .......... /***IVO"
   ]
  },
  {
   "cell_type": "markdown",
   "metadata": {},
   "source": [
    "### Construtores:\n",
    "É possível constuir uma Matrix das seguintes formas:\n",
    "* Matrix A();\n",
    "* Matrix B(num1, num2);\n",
    "* Matrix C(num1, num2, num3);\n",
    "* Matrix D = A;\n",
    "\n",
    "A primeira cria uma matriz de tamanho 0, a segunda cria uma matriz com o tamanho arbitrado pelos parametos com valor 0 em todas posiçes, a terceira cria uma matrix com tamanho arbitrado e inicializada com o valor num3 em todas posições, enquanto a última forma constroi a matriz copiando a outra."
   ]
  },
  {
   "cell_type": "code",
   "execution_count": null,
   "metadata": {},
   "outputs": [],
   "source": [
    "Matrix(int = 0, int = 0, const double& = 0.0); // construtor generico default\n",
    "Matrix(const Matrix&); // construtor de copia"
   ]
  },
  {
   "cell_type": "markdown",
   "metadata": {},
   "source": [
    "### Sobrecarga de Operadores:\n"
   ]
  },
  {
   "cell_type": "code",
   "execution_count": null,
   "metadata": {},
   "outputs": [],
   "source": [
    "Matrix& operator=(const Matrix&); // operador de copia\n",
    "double& operator()(const int&,const int&); // retorna elemento pos[x][y]\n",
    "const Matrix  operator+ (const Matrix&) const;  // retorna soma de matrizes\n",
    "const Matrix  operator- (const Matrix&) const;  // retorna subtrai matirzes\n",
    "Matrix& operator+=(const Matrix&);  // soma matriz em si mesma\n",
    "Matrix& operator-=(const Matrix&);  // subtrai matriz em si mesma\n",
    "Matrix& operator~() ;  // transp�e matriz\n",
    "Matrix& operator*=(const double&);  // multiplicacao escalar da propria matriz em si mesma\n",
    "Matrix& operator*=(const Matrix&);  // multiplicacao vetorial de matrizes em si mesma\n",
    "const Matrix  operator* (const Matrix&) const;  // multiplicacao\n",
    "bool    operator==(const Matrix&);  // comparador de igualdade de matrizes\n",
    "bool    operator!=(const Matrix&);  // comparador de diferenca de matrizes\n",
    "friend ostream& operator<< (ostream&, const Matrix&);  // imprime a matriz\n",
    "friend istream& operator>> (istream&, Matrix&);  // entra a matriz"
   ]
  },
  {
   "cell_type": "markdown",
   "metadata": {},
   "source": [
    "### Getters e Setters básicos:\n",
    "\n",
    "O operador operator() é considerado um getter e um stter, ja que ele devovle a referencia para o elemento desejado na matriz, podendo receber um novo valor ou potendo ter seu valor usado."
   ]
  },
  {
   "cell_type": "code",
   "execution_count": null,
   "metadata": {},
   "outputs": [],
   "source": [
    "int getRows() const { return rows; } // devolve numero de linhas\n",
    "int getCols() const { return cols; } // devolve numero de colunas\n",
    "double& operator()(const int&,const int&); // retorna elemento pos[x][y]\n",
    "Matrix& unit (); // transforma matriz em matriz identidade\n",
    "Matrix& zeros(); // modifica todos os elementos para o valor zero\n",
    "Matrix& ones (); // modifica todos elementos para o valor um"
   ]
  },
  {
   "cell_type": "markdown",
   "metadata": {},
   "source": [
    "### Demais Funções\n"
   ]
  },
  {
   "cell_type": "markdown",
   "metadata": {},
   "source": [
    "### Main\n",
    "Falar sobre a função principal implementada\n",
    "\n",
    "## Conclusão (caso aplicável):"
   ]
  },
  {
   "cell_type": "code",
   "execution_count": 1,
   "metadata": {},
   "outputs": [
    {
     "name": "stderr",
     "output_type": "stream",
     "text": [
      "\u001b[1minput_line_8:2:10: \u001b[0m\u001b[0;1;35mwarning: \u001b[0m\u001b[1mempty parentheses interpreted as a function declaration [-Wvexing-parse]\u001b[0m\n",
      " Matrix A();\n",
      "\u001b[0;1;32m         ^~\n",
      "\u001b[0m\u001b[1minput_line_8:2:10: \u001b[0m\u001b[0;1;30mnote: \u001b[0mremove parentheses to declare a variable\u001b[0m\n",
      " Matrix A();\n",
      "\u001b[0;1;32m         ^~\n",
      "\u001b[0m\u001b[1minput_line_8:3:7: \u001b[0m\u001b[0;1;35mwarning: \u001b[0m\u001b[1maddress of function 'A' will always evaluate to 'true' [-Wpointer-bool-conversion]\u001b[0m\n",
      "cout<<A;\n",
      "\u001b[0;1;32m    ~~^\n",
      "\u001b[0m\u001b[1minput_line_8:3:7: \u001b[0m\u001b[0;1;30mnote: \u001b[0mprefix with the address-of operator to silence this warning\u001b[0m\n",
      "cout<<A;\n",
      "\u001b[0;1;32m      ^\n",
      "\u001b[0m\u001b[0;32m      &\n",
      "\u001b[0m"
     ]
    },
    {
     "name": "stdout",
     "output_type": "stream",
     "text": [
      "1"
     ]
    }
   ],
   "source": [
    "#include \"Matrix.hpp\"\n",
    "Matrix A();\n",
    "cout<<A;\n"
   ]
  }
 ],
 "metadata": {
  "kernelspec": {
   "display_name": "C++14",
   "language": "C++14",
   "name": "xeus-cling-cpp14"
  },
  "language_info": {
   "codemirror_mode": "text/x-c++src",
   "file_extension": ".cpp",
   "mimetype": "text/x-c++src",
   "name": "c++",
   "version": "-std=c++14"
  }
 },
 "nbformat": 4,
 "nbformat_minor": 2
}

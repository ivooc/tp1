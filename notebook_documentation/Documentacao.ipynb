{
 "cells": [
  {
   "cell_type": "markdown",
   "metadata": {},
   "source": [
    "# Programação Orientada à Objetos:\n",
    "\n",
    "## Trabalho Prático 1: Classe Matriz\n",
    "Autores: Ivo Capanema, Gabriel Becker"
   ]
  },
  {
   "cell_type": "markdown",
   "metadata": {},
   "source": [
    "## Introdução:\n",
    "A intenção do tabalho era desenvolver uma classe para realizar cálculo matricial intuitivamente, usando sobrecarga para o uso de operador, a fim de introduzir os conceitos de programação orientada a objetos.  \n",
    "O código implementado está acessível no nosso repositório no [github](https://github.com/gabrielbckr/tp1).\n",
    "Nesse documento apenas serão apresentados métodos da interface.\n",
    "\n",
    "## Como compilar e executar:\n",
    "A compilação no GNU/Linux (testado no Debian 9) foi feita usando Makefile e/ou pelo seguinte comando no diretório raiz\n",
    "* g++ Matrix.cpp main.cpp -o exec\n",
    "* ./exec\n",
    "\n",
    "No windows foi utilizado o MinGW, a versão do compilador GNU GCC para este SO. Assumindo que o código fonte todo esteja numa pasta chamada TP1 na raiz do disco C: e que os comandos são executados a partir da pasta de instalação do MinGW, para compilar deve-se usar o seguinte código a partir do CMD ou PowerShell:\n",
    "\n",
    "* mingw32-g++.exe -Wall -fexceptions -O2 -std=c++11 -c C:\\TP1\\main.cpp -o C:\\TP1\\main.o\n",
    "* mingw32-g++.exe -Wall -fexceptions -O2 -std=c++11 -c C:\\TP1\\Matrix.cpp -o C:\\TP1\\Matrix.o\n",
    "* mingw32-g++.exe  -o C:\\TP1\\TP1.exe C:\\TP1\\main.o C:\\TP1\\Matrix.o -s\n",
    "\n",
    "E para executar:\n",
    "\n",
    "* C:\\TP1\\TP1.exe\n",
    "\n",
    "Cada membro da dupla usou seu editor favorito (VSCode, Atom, CodeBlocks, Visual Studio). A documentação foi feita usando o Jupyter com o interpreatdor xesus-cling, apesar de nenhum teste ter sido feito nesse ambiente.\n",
    "\n",
    "## Implementação do Código:\n",
    "\n",
    "### Matrix.hpp\n",
    "A Classe desenvolvida contém apenas 3 atributos como na estrutura apresentada abaixo."
   ]
  },
  {
   "cell_type": "code",
   "execution_count": null,
   "metadata": {},
   "outputs": [],
   "source": [
    "#include <iomanip>\n",
    "#include <iostream>\n",
    "\n",
    "using namespace std;\n",
    "\n",
    "class Matrix{\n",
    "  int rows;  // numero de linhas\n",
    "  int cols;  // numero de colunas\n",
    "  double* pos;  // vetor unidimensional com valores da matriz\n",
    "};"
   ]
  },
  {
   "cell_type": "markdown",
   "metadata": {},
   "source": [
    "A matriz gerada tem posições com tipo double. \n",
    "Optamos por cirar um vetor unidimensional pois consideramos a eficiência perdida com alocação de múltiplos vetores (como sugerido nesse [tópico](https://stackoverflow.com/a/28841507/9817745) do stackoverflow), já que isso não terá dificultações para o usuário dada a interface que ele tem acesso. Essa decisão implicou na função index(int, int) capaz de retornar a posição desejada do vetor unidimensional a partir da posição orientada por linhas e colunas.\n",
    "\n",
    "A inclusção de bibliotecas\n",
    "* iostream\n",
    "* iomanip\n",
    "\n",
    "foi feita para o uso das sobercargas operator<< e operator>>. iomanip foi incluída para o uso da função setprecision(int) que fixa a precisão de casas decimais dos elementos da matriz em apenas 1 algarismo."
   ]
  },
  {
   "cell_type": "markdown",
   "metadata": {},
   "source": [
    "### Construtores:\n",
    "É possível constuir uma Matrix das seguintes formas:\n",
    "* Matrix A();\n",
    "* Matrix B(num1, num2);\n",
    "* Matrix C(num1, num2, num3);\n",
    "* Matrix D = A;\n",
    "\n",
    "A primeira cria uma matriz de tamanho 0, a segunda cria uma matriz com o tamanho arbitrado pelos parametos com valor 0 em todas posiçes, a terceira cria uma matrix com tamanho arbitrado e inicializada com o valor num3 em todas posições, enquanto a última forma constrói a matriz copiando a outra."
   ]
  },
  {
   "cell_type": "code",
   "execution_count": null,
   "metadata": {},
   "outputs": [],
   "source": [
    "Matrix(int = 0, int = 0, const double& = 0.0); // construtor generico default\n",
    "Matrix(const Matrix&); // construtor de copia"
   ]
  },
  {
   "cell_type": "markdown",
   "metadata": {},
   "source": [
    "### Sobrecarga de Operadores:\n"
   ]
  },
  {
   "cell_type": "code",
   "execution_count": null,
   "metadata": {},
   "outputs": [],
   "source": [
    "Matrix& operator=(const Matrix&); // operador de copia\n",
    "double& operator()(const int&,const int&); // retorna elemento pos[x][y]\n",
    "const Matrix  operator+ (const Matrix&) const;  // retorna soma de matrizes\n",
    "const Matrix  operator- (const Matrix&) const;  // retorna subtrai matirzes\n",
    "Matrix& operator+=(const Matrix&);  // soma matriz em si mesma\n",
    "Matrix& operator-=(const Matrix&);  // subtrai matriz em si mesma\n",
    "Matrix& operator~() ;  // transp�e matriz\n",
    "Matrix& operator*=(const double&);  // multiplicacao escalar da propria matriz em si mesma\n",
    "Matrix& operator*=(const Matrix&);  // multiplicacao vetorial de matrizes em si mesma\n",
    "const Matrix  operator* (const Matrix&) const;  // multiplicacao\n",
    "bool    operator==(const Matrix&);  // comparador de igualdade de matrizes\n",
    "bool    operator!=(const Matrix&);  // comparador de diferenca de matrizes\n",
    "friend ostream& operator<< (ostream&, const Matrix&);  // imprime a matriz\n",
    "friend istream& operator>> (istream&, Matrix&);  // entra a matriz"
   ]
  },
  {
   "cell_type": "markdown",
   "metadata": {},
   "source": [
    "### Getters e Setters básicos:\n",
    "\n",
    "O operador operator() é considerado um getter e um setter, ja que ele devolve a referência para o elemento desejado na matriz, podendo receber um novo valor ou podendo ter seu valor usado."
   ]
  },
  {
   "cell_type": "code",
   "execution_count": null,
   "metadata": {},
   "outputs": [],
   "source": [
    "int getRows() const { return rows; } // devolve numero de linhas\n",
    "int getCols() const { return cols; } // devolve numero de colunas\n",
    "double& operator()(const int&,const int&); // retorna elemento pos[x][y]\n",
    "Matrix& unit (); // transforma matriz em matriz identidade\n",
    "Matrix& zeros(); // modifica todos os elementos para o valor zero\n",
    "Matrix& ones (); // modifica todos elementos para o valor um"
   ]
  },
  {
   "cell_type": "markdown",
   "metadata": {},
   "source": [
    "### Demais Funções\n"
   ]
  },
  {
   "cell_type": "code",
   "execution_count": null,
   "metadata": {},
   "outputs": [],
   "source": []
  },
  {
   "cell_type": "markdown",
   "metadata": {},
   "source": [
    "### Main\n",
    "A função main implementada foi a sugerida na especificação do trabalho prático, com algumas modificações. Esse programa principal foi usado como base para definir quais funções seriam implementadas na classe Matrix."
   ]
  },
  {
   "cell_type": "code",
   "execution_count": 1,
   "metadata": {},
   "outputs": [],
   "source": [
    "#include <iostream>\n",
    "#include \"Matrix.hpp\"\n",
    "\n",
    "using namespace std;\n",
    "\n",
    "int main (){\n",
    "\n",
    "  Matrix Y;\n",
    "  Matrix X(3,1), A(3,3), B(4,4,5), C(3,3);\n",
    "  Matrix W = C;\n",
    "  Matrix Z(A);\n",
    "  int numeroLinhas = A.getRows();\n",
    "  int numeroColunas = A.getCols();\n",
    "  cout << numeroLinhas << endl;\n",
    "  cout << numeroColunas << endl;\n",
    "  B.unit(); // inicializa Y com a matriz identidade\n",
    "  A(2,1)=10; // altera o valor de uma posição de A\n",
    "  Y.zeros(); // modifica todos os elementos de Y para o valor zero\n",
    "  C=A+A; // Soma\n",
    "  C-=A; // Subtração\n",
    "  A=C-A; // Subtração\n",
    "  A+=A; // Soma\n",
    "  A=~C; // A é igual a transposta de C\n",
    "  X.ones(); // modifica todos os elementos de X com 1s\n",
    "  X*=2; // multiplicação por uma constante\n",
    "  C=A*X; // multiplicação de matrizes\n",
    "  C*=X; // multiplicação de matrizes\n",
    "  if (A == C){// verifica a igualdade entre A e C\n",
    "    cout << \"A == C\"<<endl;\n",
    "  }\n",
    "  else{\n",
    "    cout <<\"A != C\"<<endl;\n",
    "  }\n",
    "  if(X != Y){// verifica a desigualdade entre X e Y\n",
    "    cout << \"X != Y\"<<endl;\n",
    "  }\n",
    "  else{\n",
    "    cout <<\"X == Y\"<<endl;\n",
    "  }\n",
    "  Y = W;\n",
    "  cin >> Y; // leitura de dados para dentro da matriz Y\n",
    "  cout << Y << endl; // Impressão de matrizes\n",
    "\n",
    "  return 0 ;\n",
    "}"
   ]
  },
  {
   "cell_type": "markdown",
   "metadata": {},
   "source": [
    "## Conclusão:\n",
    "\n",
    "Este trabalho contribuiu consideravelmente no aprendizado de programação orientada a objetos. Foi possível praticar diversos conceitos passados em sala de aula e verificar seu funcionamento na prática. O mais interessante de se fazer foram as implementações das sobrecarga de operadores, que adiciona funcionalidade bastante prática para o usuário. Fizemos a escolha de não trabalhar com tratamento de erros, se uma função for usada de maneira indesejada, ela apenas retorna o objeto corrente sem alterações (ponteiro *\\*this*) ou uma cópia do objeto que chamou a função."
   ]
  }
 ],
 "metadata": {
  "kernelspec": {
   "display_name": "C++14",
   "language": "C++14",
   "name": "xeus-cling-cpp14"
  },
  "language_info": {
   "codemirror_mode": "text/x-c++src",
   "file_extension": ".cpp",
   "mimetype": "text/x-c++src",
   "name": "c++",
   "version": "-std=c++14"
  }
 },
 "nbformat": 4,
 "nbformat_minor": 2
}

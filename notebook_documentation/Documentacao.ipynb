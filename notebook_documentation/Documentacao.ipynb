{
 "cells": [
  {
   "cell_type": "markdown",
   "metadata": {},
   "source": [
    "# Programação Orientada à Objetos:\n",
    "\n",
    "## Trabalho Prático 1: Classe Matriz\n",
    "Autores: Ivo Capanema, Gabriel Becker"
   ]
  },
  {
   "cell_type": "markdown",
   "metadata": {},
   "source": [
    "## Introdução:\n",
    "\n",
    "## Como compilar e executar:\n",
    "Nesta parte, recomenda-se que seja abordada a forma de implementação do código (qual sistema operacional\n",
    "utilizado, compilador, IDE, etc..)\n",
    "Implementação do Código:\n",
    "### Header le:\n",
    "Fazer uma breve descrição do arquivo de cabeçalho com a implementação da classe, seus atributos e métodos.\n",
    "Pode-se colocar a parte do código se julgar necessário, conforme mostrado abaixo:\n",
    "### Matrix.h"
   ]
  },
  {
   "cell_type": "code",
   "execution_count": null,
   "metadata": {},
   "outputs": [],
   "source": [
    "#ifndef _TPPOO_MATRIZ__\n",
    "#define _TPPOO_MATRIZ__\n",
    "\n",
    "#include <iostream>\n",
    "#include <iomanip>\n",
    "\n",
    "using namespace std;\n",
    "\n",
    "class Matrix{\n",
    "  int rows;  // numero de linhas\n",
    "  int cols;  // numero de colunas\n",
    "  double* pos;  // vetor unidimensional com valores da matriz\n",
    "};\n",
    "\n",
    "#endif"
   ]
  },
  {
   "cell_type": "markdown",
   "metadata": {},
   "source": [
    "### Construtores:"
   ]
  },
  {
   "cell_type": "code",
   "execution_count": null,
   "metadata": {},
   "outputs": [],
   "source": [
    "Matrix(int = 0, int = 0, const double& = 0.0); // construtor generico default\n",
    "Matrix(const Matrix&); // construtor de copia"
   ]
  },
  {
   "cell_type": "markdown",
   "metadata": {},
   "source": [
    "### Sobrecarga de Operadores:"
   ]
  },
  {
   "cell_type": "code",
   "execution_count": null,
   "metadata": {},
   "outputs": [],
   "source": [
    "Matrix& operator=(const Matrix&); // operador de copia\n",
    "double& operator()(const int&,const int&); // retorna elemento pos[x][y]\n",
    "const Matrix  operator+ (const Matrix&) const;  // retorna soma de matrizes\n",
    "const Matrix  operator- (const Matrix&) const;  // retorna subtrai matirzes\n",
    "Matrix& operator+=(const Matrix&);  // soma matriz em si mesma\n",
    "Matrix& operator-=(const Matrix&);  // subtrai matriz em si mesma\n",
    "Matrix& operator~() ;  // transp�e matriz\n",
    "Matrix& operator*=(const double&);  // multiplicacao escalar da propria matriz em si mesma\n",
    "Matrix& operator*=(const Matrix&);  // multiplicacao vetorial de matrizes em si mesma\n",
    "const Matrix  operator* (const Matrix&) const;  // multiplicacao\n",
    "bool    operator==(const Matrix&);  // comparador de igualdade de matrizes\n",
    "bool    operator!=(const Matrix&);  // comparador de diferenca de matrizes\n",
    "friend ostream& operator<< (ostream&, const Matrix&);  // imprime a matriz\n",
    "friend istream& operator>> (istream&, Matrix&);  // entra a matriz"
   ]
  },
  {
   "cell_type": "markdown",
   "metadata": {},
   "source": [
    "### Getters e Setters básicos:"
   ]
  },
  {
   "cell_type": "code",
   "execution_count": null,
   "metadata": {},
   "outputs": [],
   "source": [
    "int getIndexCol (int index) const { return index % cols; }\n",
    "int getIndexRow (int index) const { return index / cols; }\n",
    "double getValueAt(int row, int col) const { return pos[index(row, col)]; }\n",
    "void setValueAt(int row, int col, const double &value);\n",
    "void setValueAt(int index, const double &value);\n",
    "Matrix(int = 0, int = 0, const double& = 0.0); // construtor generico default\n",
    "Matrix(const Matrix&); // construtor de copia\n",
    "int getRows() const { return rows; } // devolve numero de linhas\n",
    "int getCols() const { return cols; } // devolve numero de colunas\n",
    "double& operator()(const int&,const int&); // retorna elemento pos[x][y]"
   ]
  },
  {
   "cell_type": "markdown",
   "metadata": {},
   "source": [
    "### Tratamento de exceções (caso aplicável)\n",
    "Falar sobre o comportamento do código, caso aplicável, quando ocorrem operações inapropriadas\n",
    "(multiplicação de matrizes de dimensões incompatíveis por exemplo)\n",
    "### Main\n",
    "Falar sobre a função principal implementada\n",
    "### Demais tópicos:\n",
    "Caso houver algum tópico não tratado, pode ser inserido aqui (lembrem-se que esse template é só uma\n",
    "recomendação e que pode ser adequado à cada trabalho)\n",
    "## Conclusão (caso aplicável):"
   ]
  },
  {
   "cell_type": "code",
   "execution_count": null,
   "metadata": {},
   "outputs": [],
   "source": [
    "\n",
    "\n"
   ]
  }
 ],
 "metadata": {
  "kernelspec": {
   "display_name": "Python 3",
   "language": "python",
   "name": "python3"
  },
  "language_info": {
   "codemirror_mode": {
    "name": "ipython",
    "version": 3
   },
   "file_extension": ".py",
   "mimetype": "text/x-python",
   "name": "python",
   "nbconvert_exporter": "python",
   "pygments_lexer": "ipython3",
   "version": "3.6.5"
  }
 },
 "nbformat": 4,
 "nbformat_minor": 2
}
